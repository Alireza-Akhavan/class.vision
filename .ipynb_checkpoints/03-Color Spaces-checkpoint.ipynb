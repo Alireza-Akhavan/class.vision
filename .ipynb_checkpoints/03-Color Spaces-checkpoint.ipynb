{
 "cells": [
  {
   "cell_type": "markdown",
   "metadata": {},
   "source": [
    "<img src=\"http://akhavanpour.ir/notebook/images/srttu.gif\" alt=\"SRTTU\" style=\"width: 150px;\"/>\n",
    "\n",
    "[![Azure Notebooks](https://notebooks.azure.com/launch.png)](https://notebooks.azure.com/import/gh/Alireza-Akhavan/class.vision)"
   ]
  },
  {
   "cell_type": "markdown",
   "metadata": {},
   "source": [
    "## Let's take a closer look at color spaces\n",
    "\n",
    "You may have remembered we talked about images being stored in RGB (Red Green Blue) color Spaces. Let's take a look at that in OpenCV.\n",
    "\n",
    "### First thing to remember about OpenCV's RGB is that it's BGR (I know, this is annoying)\n",
    "\n",
    "Let's look at the image shape again. The '3L' "
   ]
  },
  {
   "cell_type": "code",
   "execution_count": null,
   "metadata": {},
   "outputs": [],
   "source": [
    "import cv2\n",
    "import numpy as np\n",
    "\n",
    "image = cv2.imread('./images/input.jpg')"
   ]
  },
  {
   "cell_type": "markdown",
   "metadata": {},
   "source": [
    "### Let's look at the individual color levels for the first pixel (0,0)"
   ]
  },
  {
   "cell_type": "code",
   "execution_count": null,
   "metadata": {},
   "outputs": [],
   "source": [
    "# BGR Values for the first 0,0 pixel\n",
    "B, G, R = image[10, 50] \n",
    "print (B, G, R)\n",
    "print (image.shape)"
   ]
  },
  {
   "cell_type": "markdown",
   "metadata": {},
   "source": [
    "Let's see what happens when we convert it to grayscale"
   ]
  },
  {
   "cell_type": "code",
   "execution_count": null,
   "metadata": {},
   "outputs": [],
   "source": [
    "gray_img = cv2.cvtColor(image, cv2.COLOR_BGR2GRAY)\n",
    "print (gray_img.shape)\n",
    "print (gray_img[0, 0]) "
   ]
  },
  {
   "cell_type": "markdown",
   "metadata": {},
   "source": [
    "It's now only 2 dimensions. Each pixel coordinate has only one value (previously 3) with a range of 0 to 255"
   ]
  },
  {
   "cell_type": "code",
   "execution_count": null,
   "metadata": {
    "scrolled": true
   },
   "outputs": [],
   "source": [
    "gray_img[0, 0] "
   ]
  },
  {
   "cell_type": "markdown",
   "metadata": {},
   "source": [
    "### Another useful color space is HSV \n",
    "<ul>\n",
    "<li>Hue – Color Value (0 – 179)</li>\n",
    "<li>Saturation – Vibrancy of color (0-255)</li>\n",
    "<li>Value – Brightness or intensity (0-255)</li>\n",
    "</ul>\n",
    "<img src=\"./lecture_images/HSV_color_solid_cylinder.png\" />\n",
    "Infact HSV is very useful in color filtering."
   ]
  },
  {
   "cell_type": "code",
   "execution_count": null,
   "metadata": {},
   "outputs": [],
   "source": [
    "#H: 0 - 180, S: 0 - 255, V: 0 - 255\n",
    "\n",
    "image = cv2.imread('./images/input.jpg')\n",
    "hsv_image = cv2.cvtColor(image, cv2.COLOR_BGR2HSV)\n",
    "\n",
    "cv2.imshow('HSV image', hsv_image)\n",
    "cv2.imshow('Hue channel', hsv_image[:, :, 0])\n",
    "cv2.imshow('Saturation channel', hsv_image[:, :, 1])\n",
    "cv2.imshow('Value channel', hsv_image[:, :, 2])\n",
    "\n",
    "cv2.waitKey()\n",
    "cv2.destroyAllWindows()"
   ]
  },
  {
   "cell_type": "markdown",
   "metadata": {},
   "source": [
    "### Let's now explore lookng at individual channels in an RGB image"
   ]
  },
  {
   "cell_type": "code",
   "execution_count": null,
   "metadata": {},
   "outputs": [],
   "source": [
    "image = cv2.imread('./images/input.jpg')\n",
    "\n",
    "# OpenCV's 'split' function splites the image into each color index\n",
    "B, G, R = cv2.split(image)\n",
    "\n",
    "print (B.shape)\n",
    "cv2.imshow(\"Red\", R)\n",
    "cv2.imshow(\"Green\", G)\n",
    "cv2.imshow(\"Blue\", B)\n",
    "cv2.waitKey(0)\n",
    "cv2.destroyAllWindows()\n",
    "\n",
    "# Let's re-make the original image, \n",
    "merged = cv2.merge([B, G, R]) \n",
    "cv2.imshow(\"Merged\", merged) \n",
    "\n",
    "# Let's amplify the blue color\n",
    "merged = cv2.merge([B+100, G, R])\n",
    "cv2.imshow(\"Merged with Blue Amplified\", merged) \n",
    "\n",
    "cv2.waitKey(0)\n",
    "cv2.destroyAllWindows()"
   ]
  },
  {
   "cell_type": "code",
   "execution_count": null,
   "metadata": {},
   "outputs": [],
   "source": [
    "import cv2\n",
    "import numpy as np\n",
    "\n",
    "B, G, R = cv2.split(image)\n",
    "\n",
    "# Let's create a matrix of zeros \n",
    "# with dimensions of the image h x w  \n",
    "height, width, channels = image.shape\n",
    "zeros = np.zeros([height,width], dtype = \"uint8\") # zeros = np.zeros(image.shape[:2], dtype = \"uint8\")\n",
    "\n",
    "\n",
    "cv2.imshow(\"Red\", cv2.merge([zeros, zeros, R]))\n",
    "cv2.imshow(\"Green\", cv2.merge([zeros, G, zeros]))\n",
    "cv2.imshow(\"Blue\", cv2.merge([B, zeros, zeros]))\n",
    "\n",
    "cv2.waitKey(0)\n",
    "cv2.destroyAllWindows()"
   ]
  },
  {
   "cell_type": "code",
   "execution_count": null,
   "metadata": {},
   "outputs": [],
   "source": [
    "image.shape[:2]"
   ]
  },
  {
   "cell_type": "markdown",
   "metadata": {},
   "source": [
    "<h1 dir=\"rtl\" style=\"text-align:right;\">توضیحاتی در ارتباط با بازه عددی کانال های رنگی</h1>\n",
    "<p dir=\"rtl\" style=\"text-align:right;\">\n",
    "در ابتدا باید توجه داشته باشیم که به طور پیش فرض opencv با  کانال های رنگی با نوع uint8 کار میکنه و برای اجرای توابعی که در ادامه ذکر می شود نیاز به تغییر آن ها داریم:\n",
    "    <br>\n",
    "خب در ابتدا نیاز داریم تا به هر خانه ی آرایه مقداری را اضافه کنیم تا تصویر amplified شود و در ادامه اگر مقدار نهایی از 255 بیشتر شد، عدد 255 را جایگزین کنیم. برای اینکار می توانیم یکی از دو روش زیر را انجام بدهیم : \n",
    "    <br>\n",
    "پیمایش آرایه :\n",
    "\n",
    "</p>"
   ]
  },
  {
   "cell_type": "code",
   "execution_count": null,
   "metadata": {},
   "outputs": [],
   "source": [
    "for i in range (0,w):\n",
    "    for j in range(0,h):\n",
    "        B[i,j]=min(B[i][j]+ampNumber,255)"
   ]
  },
  {
   "cell_type": "markdown",
   "metadata": {},
   "source": [
    "\n",
    "<p dir=\"rtl\" style=\"text-align:right;\">\n",
    "\n",
    "در این روش به علت حجم بالای اکثر تصاویر سرعت پیمایش پایین است.\n",
    "<br>\n",
    "استفاده از توابع کتابخانه Numpy:\n",
    "</p>"
   ]
  },
  {
   "cell_type": "code",
   "execution_count": null,
   "metadata": {},
   "outputs": [],
   "source": [
    "\n",
    "B = np.clip(B.astype(np.int)+ampNumber, None, 255)\n",
    "B = B.astype(np.uint8)\n"
   ]
  },
  {
   "cell_type": "markdown",
   "metadata": {},
   "source": [
    "<p dir=\"rtl\" style=\"text-align:right;\">\n",
    "\n",
    "\n",
    "در این روش نوع ماتریس B را در ابتدا تغییر داده و بعد از مینیمم گیری به حالت قبل برمیگردانیم تا opencv خطایی از ما نگیرد. شما میتونید برای مثال روش های دیگه رو در این <a href=\"https://stackoverflow.com/questions/48833374/get-minimum-of-each-matrix-element-with-a-const-number/48833464#48833464\">لینک</a> پیدا کنید .\n",
    "\n",
    "\n",
    "</p>"
   ]
  },
  {
   "cell_type": "markdown",
   "metadata": {},
   "source": [
    "#### You can view a list of color converisons here, but keep in mind you won't ever use or need many of these\n",
    "\n",
    "http://docs.opencv.org/trunk/d7/d1b/group__imgproc__misc.html#ga4e0972be5de079fed4e3a10e24ef5ef0"
   ]
  },
  {
   "cell_type": "markdown",
   "metadata": {},
   "source": [
    "<div class=\"alert alert-block alert-info\">\n",
    "<div style=\"direction:rtl;text-align:right;font-family:B Lotus, B Nazanin, Tahoma\"> دانشگاه تربیت دبیر شهید رجایی<br>مباحث ویژه - آشنایی با بینایی کامپیوتر<br>علیرضا اخوان پور<br>96-97<br>\n",
    "</div>\n",
    "<a href=\"https://www.srttu.edu/\">SRTTU.edu</a> - <a href=\"http://class.vision\">Class.Vision</a> - <a href=\"http://AkhavanPour.ir\">AkhavanPour.ir</a>\n",
    "</div>"
   ]
  },
  {
   "cell_type": "code",
   "execution_count": null,
   "metadata": {},
   "outputs": [],
   "source": []
  }
 ],
 "metadata": {
  "anaconda-cloud": {},
  "kernelspec": {
   "display_name": "Python 3",
   "language": "python",
   "name": "python3"
  },
  "language_info": {
   "codemirror_mode": {
    "name": "ipython",
    "version": 3
   },
   "file_extension": ".py",
   "mimetype": "text/x-python",
   "name": "python",
   "nbconvert_exporter": "python",
   "pygments_lexer": "ipython3",
   "version": "3.6.4"
  }
 },
 "nbformat": 4,
 "nbformat_minor": 1
}
