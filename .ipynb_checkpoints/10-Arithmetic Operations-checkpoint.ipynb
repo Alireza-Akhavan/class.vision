{
 "cells": [
  {
   "cell_type": "markdown",
   "metadata": {},
   "source": [
    "<img src=\"http://akhavanpour.ir/notebook/images/srttu.gif\" alt=\"SRTTU\" style=\"width: 150px;\"/>\n",
    "\n",
    "[![Azure Notebooks](https://notebooks.azure.com/launch.png)](https://notebooks.azure.com/import/gh/Alireza-Akhavan/class.vision)"
   ]
  },
  {
   "cell_type": "markdown",
   "metadata": {},
   "source": [
    "# <div style=\"direction:rtl;text-align:right;font-family:B Lotus, B Nazanin, Tahoma\"> عملیات ریاضی (Arithmetic Operations) </div>\n",
    "\n",
    "<div style=\"direction:rtl;text-align:right;font-family:Tahoma\">\n",
    "    عملیات ساده‌ای است که به ما این امکان را می‌دهد که به طور مستقیم شدت رنگ را اضافه یا کم کنیم.\n",
    "    <br>\n",
    "    عملیات بر روی خانه های نظیر به نظیر دو آرایه با ابعاد یکسان انجام شده و نتیجه نهایی کاهش یا افزایش روشنایی تصویر خواهد بود.\n",
    "</div>"
   ]
  },
  {
   "cell_type": "markdown",
   "metadata": {},
   "source": [
    "## <div style=\"direction:rtl;text-align:right;font-family:B Lotus, B Nazanin, Tahoma\"> یادآوری</div>\n",
    "<div style=\"direction:rtl;text-align:right;font-family:Tahoma\">\n",
    "با توجه به اینکه برای تصاویر در OpenCV ار نوع داده‌ای uint8 یعنی عدد صحیح بدون علامت 8 بیتی استفاده میکنیم\n",
    "    <br>\n",
    "و یا توجه به 8 بیتی بودن، این نوع 2 به توان 8 یا 256 عدد مختلف را در خود می‌تواند جای دهد مقادیر خارج از 0 تا 255 امکان پذیر نبود و در صورتی که عددی بزرگتر قرار میدادیم متغیر سر ریز می‌شد...\n",
    "</div>"
   ]
  },
  {
   "cell_type": "code",
   "execution_count": 1,
   "metadata": {},
   "outputs": [
    {
     "name": "stdout",
     "output_type": "stream",
     "text": [
      "[100 100]\n",
      "[255 255]\n",
      "[4 4]\n"
     ]
    }
   ],
   "source": [
    "import numpy as np\n",
    "\n",
    "a = np.ones([2], dtype = \"uint8\")\n",
    "b = a * 100\n",
    "print(b)\n",
    "print(b + 155)\n",
    "print(b + 160)"
   ]
  },
  {
   "cell_type": "markdown",
   "metadata": {},
   "source": [
    "<div style=\"direction:rtl;text-align:right;font-family:Tahoma\">\n",
    "طبیعتا وقتی broadcast انجام نشود و ماتریس هم اندازه را نیز با هم جمع کنیم به نتایج مشابه می‌رسیم.\n",
    "</div>"
   ]
  },
  {
   "cell_type": "code",
   "execution_count": 2,
   "metadata": {},
   "outputs": [
    {
     "name": "stdout",
     "output_type": "stream",
     "text": [
      "[[250 255]\n",
      " [  0   1]]\n"
     ]
    }
   ],
   "source": [
    "import numpy as np\n",
    "\n",
    "m1 = np.array([[150, 155], [156, 157]], dtype = \"uint8\") \n",
    "m2 = np.ones([2,2], dtype = \"uint8\") * 100\n",
    "print(m1 + m2)"
   ]
  },
  {
   "cell_type": "markdown",
   "metadata": {},
   "source": [
    "<div style=\"direction:rtl;text-align:right;font-family:Tahoma\">\n",
    "برای رفع این مشکل راه حل‌های مختلفی وجود داشت، از جمله ...</div>"
   ]
  },
  {
   "cell_type": "code",
   "execution_count": 3,
   "metadata": {},
   "outputs": [
    {
     "name": "stdout",
     "output_type": "stream",
     "text": [
      "[[250 255]\n",
      " [255 255]]\n"
     ]
    }
   ],
   "source": [
    "import numpy as np\n",
    "\n",
    "m1 = np.array([[150, 155], [156, 157]], dtype = \"uint8\") \n",
    "\n",
    "value_to_add = 100\n",
    "max_threshold = 255 - 100\n",
    "\n",
    "m1[m1 >= max_threshold] = 255\n",
    "m1[m1 < max_threshold] += value_to_add\n",
    "\n",
    "print(m1)"
   ]
  },
  {
   "cell_type": "markdown",
   "metadata": {},
   "source": [
    "## <div style=\"direction:rtl;text-align:right;font-family:B Lotus, B Nazanin, Tahoma\"> عملیات ریاضی در OpenCV</div>\n",
    "<div style=\"direction:rtl;text-align:right;font-family:Tahoma\">\n",
    "اگر از توابع **cv2.add** و **cv2.subtract** استفاده کنیم این مشکل را مشاهده نخواهیم کرد و مقادیر کمتر از 0 همان 0 و مقادیر بیش از 255 همان 255 باقی خواهد ماند.\n",
    "</div>"
   ]
  },
  {
   "cell_type": "code",
   "execution_count": 4,
   "metadata": {},
   "outputs": [],
   "source": [
    "import cv2\n",
    "import numpy as np\n",
    "\n",
    "image = cv2.imread('images/input.jpg')\n",
    "\n",
    "# Create a matrix of ones, then multiply it by a scaler of 100 \n",
    "# This gives a matrix with same dimesions of our image with all values being 100\n",
    "M = np.ones(image.shape, dtype = \"uint8\") * 100\n",
    "\n",
    "cv2.imshow(\"Original\", image)\n",
    "cv2.waitKey(0)\n",
    "\n",
    "# We use this to add this matrix M, to our image\n",
    "# Notice the increase in brightness\n",
    "added = cv2.add(image, M)\n",
    "cv2.imshow(\"Added\", added)\n",
    "\n",
    "# Likewise we can also subtract\n",
    "# Notice the decrease in brightness\n",
    "subtracted = cv2.subtract(image, M)\n",
    "cv2.imshow(\"Subtracted\", subtracted)\n",
    "\n",
    "cv2.waitKey(0)\n",
    "cv2.destroyAllWindows()"
   ]
  },
  {
   "cell_type": "markdown",
   "metadata": {},
   "source": [
    "## <div style=\"direction:rtl;text-align:right;font-family:B Lotus, B Nazanin, Tahoma\"> مثال عملی ترکیب تصاویر رنگی   </div>"
   ]
  },
  {
   "cell_type": "code",
   "execution_count": 5,
   "metadata": {},
   "outputs": [
    {
     "name": "stdout",
     "output_type": "stream",
     "text": [
      "(185, 150, 3)\n",
      "(185, 150, 3)\n",
      "(185, 150, 3)\n"
     ]
    }
   ],
   "source": [
    "import cv2\n",
    "import numpy as np\n",
    "\n",
    "img1 = cv2.imread('./images/ml.jpg')\n",
    "img2 = cv2.imread('./images/opencv.jpg')\n",
    "\n",
    "cv2.imshow(\"ml\", img1)\n",
    "cv2.imshow(\"opencv\", img2)\n",
    "\n",
    "cv2.waitKey(0)\n",
    "\n",
    "output_image = cv2.add(img1,img2)\n",
    "cv2.imshow(\"out\", output_image)\n",
    "\n",
    "\n",
    "print(img1.shape)\n",
    "print(img2.shape)\n",
    "print(output_image.shape)\n",
    "\n",
    "cv2.waitKey(0)\n",
    "cv2.destroyAllWindows()"
   ]
  },
  {
   "cell_type": "markdown",
   "metadata": {},
   "source": [
    "## <div style=\"direction:rtl;text-align:right;font-family:B Lotus, B Nazanin, Tahoma\"> ترکیب دو تصویر با جمع وزن‌دار    </div>\n",
    "**addWeighted(src1, alpha, src2, beta, gamma)**\n",
    "<br>\n",
    "<div style=\"direction:rtl;text-align:right;font-family:Tahoma\">\n",
    "آلفا و بتا در فرمول دوم مشاهده میشود.\n",
    "</div>\n",
    "<br>\n",
    "g(x)=(1−α)f0(x)+αf1(x)\n",
    "<br>\n",
    "dst=α⋅img1+β⋅img2+γ\n",
    "\n",
    "<br>\n",
    "https://docs.opencv.org/3.2.0/d0/d86/tutorial_py_image_arithmetics.html"
   ]
  },
  {
   "cell_type": "code",
   "execution_count": 6,
   "metadata": {},
   "outputs": [],
   "source": [
    "import cv2\n",
    "import numpy as np\n",
    "\n",
    "img1 = cv2.imread('./images/ml.jpg')\n",
    "img2 = cv2.imread('./images/opencv.jpg')\n",
    "dst = cv2.addWeighted(img1,0.7,img2,0.3,0)\n",
    "cv2.imshow('dst',dst)\n",
    "cv2.waitKey(0)\n",
    "cv2.destroyAllWindows()"
   ]
  },
  {
   "cell_type": "markdown",
   "metadata": {
    "collapsed": true
   },
   "source": [
    "<div class=\"alert alert-block alert-info\">\n",
    "<div style=\"direction:rtl;text-align:right;font-family:B Lotus, B Nazanin, Tahoma\"> دانشگاه تربیت دبیر شهید رجایی<br>مباحث ویژه - آشنایی با بینایی کامپیوتر<br>علیرضا اخوان پور<br>96-97<br>\n",
    "</div>\n",
    "<a href=\"https://www.srttu.edu/\">SRTTU.edu</a> - <a href=\"http://class.vision\">Class.Vision</a> - <a href=\"http://AkhavanPour.ir\">AkhavanPour.ir</a>\n",
    "</div>"
   ]
  }
 ],
 "metadata": {
  "kernelspec": {
   "display_name": "Python 3",
   "language": "python",
   "name": "python3"
  },
  "language_info": {
   "codemirror_mode": {
    "name": "ipython",
    "version": 3
   },
   "file_extension": ".py",
   "mimetype": "text/x-python",
   "name": "python",
   "nbconvert_exporter": "python",
   "pygments_lexer": "ipython3",
   "version": "3.6.4"
  }
 },
 "nbformat": 4,
 "nbformat_minor": 1
}
