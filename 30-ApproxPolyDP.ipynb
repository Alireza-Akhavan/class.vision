{
 "cells": [
  {
   "cell_type": "markdown",
   "metadata": {},
   "source": [
    "# <div style=\"direction:rtl;text-align:right;font-family:B Lotus, B Nazanin, Tahoma\">تخمین contour</div>"
   ]
  },
  {
   "cell_type": "markdown",
   "metadata": {},
   "source": [
    "<div style=\"direction:rtl;text-align:right;font-family:B Lotus, B Nazanin, Tahoma\">این تابع فرآیند تقریب یک شکل کانتور به شکل دیگری متشکل از تعداد کمتری از رئوس است، به گونه ای که فاصله خطوط تقریبی از شکا اولیه برابر با دقت مشخص شده یا کمتر از خطای مشخص شده باشد!\n",
    "<br/>\n",
    "بسته به دقتی که ما مشخص می کنیم، یک شکل کانتور را به شکل دیگری با تعداد رئوس کمتر تقریب می زند. این یک پیاده سازی از الگوریتم داگلاس-پیکر است. صفحه ویکی پدیا را برای الگوریتم و نمایش بررسی کنید.\n",
    "</div>\n",
    "\n",
    "[Douglas-Peucker](https://en.wikipedia.org/wiki/Ramer-Douglas-Peucker_algorithm)"
   ]
  },
  {
   "cell_type": "markdown",
   "metadata": {},
   "source": [
    "## **Approximating Contours using ApproxPolyDP**\n",
    "\n",
    "### **Using ApproxPolyDP to approximate contours as a more defined shape**\n",
    "It approximates a contour shape to another shape with less number of vertices depending upon the precision we specify.\n",
    "\n",
    "\n",
    "***cv2.approxPolyDP(contour, Approximation Accuracy, Closed)***\n",
    "- **contour** – is the individual contour we wish to approximate\n",
    "- **Approximation Accuracy** – Important parameter is determining the accuracy of the approximation. Small values give precise-  approximations, large values give more generic approximation. A good rule of thumb is less than 5% of the contour perimeter\n",
    "- **Closed** – a Boolean value that states whether the approximate contour should be open or closed \n"
   ]
  },
  {
   "cell_type": "markdown",
   "metadata": {},
   "source": [
    "<div style=\"direction:rtl;text-align:right;font-family:B Lotus, B Nazanin, Tahoma\">همچنین از تابع زیر برای محاسبه ی محیط شکل استفاده میکنیم که معمولا خطای قابل تحمل را بر اساس این مقدار مینویسیم\n",
    "</div>"
   ]
  },
  {
   "cell_type": "markdown",
   "metadata": {},
   "source": [
    "## Contour Perimeter \n",
    "`perimeter = cv2.arcLength(cnt,True)`"
   ]
  },
  {
   "cell_type": "code",
   "execution_count": 18,
   "metadata": {},
   "outputs": [
    {
     "data": {
      "image/png": "[encoded data removed]",
      "text/plain": [
       "<Figure size 1008x576 with 3 Axes>"
      ]
     },
     "metadata": {
      "needs_background": "light"
     },
     "output_type": "display_data"
    }
   ],
   "source": [
    "import cv2\n",
    "import matplotlib.pyplot as plt\n",
    "\n",
    "\n",
    "image = cv2.imread('images/approx.jpg')\n",
    "gray = cv2.cvtColor(image, cv2.COLOR_BGR2GRAY)\n",
    "\n",
    "ret,thresh = cv2.threshold(gray,127,255,0)\n",
    "contours,hierarchy = cv2.findContours(thresh, 1, 2)\n",
    "\n",
    "#1st contour\n",
    "cnt = contours[0]\n",
    "perimeter = cv2.arcLength(cnt,True)\n",
    "\n",
    "first_output = image.copy()\n",
    "epsilon = 0.1*cv2.arcLength(cnt,True)\n",
    "approx = cv2.approxPolyDP(cnt,epsilon,True)\n",
    "cv2.drawContours(first_output, [approx], 0, (0,255,0), 2)\n",
    "\n",
    "second_output = image.copy()\n",
    "epsilon = 0.01*cv2.arcLength(cnt,True)\n",
    "approx = cv2.approxPolyDP(cnt,epsilon,True)\n",
    "cv2.drawContours(second_output, [approx], 0, (0,255,0), 2)\n",
    "\n",
    "plt.figure(figsize=[14,8])\n",
    "plt.subplot(131);plt.imshow(image[...,::-1]);plt.title(\"Original\");\n",
    "plt.subplot(132);plt.imshow(first_output[...,::-1]);plt.title(\"epsilon = 1%\");\n",
    "plt.subplot(133);plt.imshow(second_output[...,::-1]);plt.title(\"epsilon = 10%\");"
   ]
  },
  {
   "cell_type": "code",
   "execution_count": null,
   "metadata": {},
   "outputs": [],
   "source": [
    "import cv2\n",
    "import matplotlib.pyplot as plt\n",
    "\n",
    "\n",
    "image = cv2.imread('images/shapes2.png')\n",
    "gray = cv2.cvtColor(image, cv2.COLOR_BGR2GRAY)\n",
    "\n",
    "_, binary_image = cv2.threshold(gray, 245, 255, cv2.THRESH_BINARY_INV)\n",
    "imagecontours, _ = cv2.findContours(binary_image, cv2.RETR_TREE, cv2.CHAIN_APPROX_SIMPLE)\n",
    "\n",
    "#for each of the contours detected, the shape of the contours is approximated using approxPolyDP() function and the contours are drawn in the image using drawContours() function\n",
    "for c in imagecontours:\n",
    "    epsilon = 0.01 * cv2.arcLength(c, True)\n",
    "    approximations = cv2.approxPolyDP(c, epsilon, True)\n",
    "    cv2.drawContours(image, [approximations], 0, (0), 3)\n",
    "    \n",
    "    #the name of the detected shapes are written on the image\n",
    "    i, j = approximations[0][0] \n",
    "    \n",
    "    if len(approximations) == 3:\n",
    "        cv2.putText(image, \"Triangle\", (i, j), cv2.FONT_HERSHEY_COMPLEX, 1, 0, 1)\n",
    "    elif len(approximations) == 4:\n",
    "        cv2.putText(image, \"Rectangle\", (i, j), cv2.FONT_HERSHEY_COMPLEX, 1, 0, 1)\n",
    "    elif len(approximations) == 5:\n",
    "        cv2.putText(image, \"Pentagon\", (i, j), cv2.FONT_HERSHEY_COMPLEX, 1, 0, 1)\n",
    "    elif 6 < len(approximations) < 15:\n",
    "        cv2.putText(image, \"Ellipse\", (i, j), cv2.FONT_HERSHEY_COMPLEX, 1, 0, 1)\n",
    "    else:\n",
    "        cv2.putText(image, \"Circle\", (i, j), cv2.FONT_HERSHEY_COMPLEX, 1, 0, 1)\n",
    "\n",
    "plt.imshow(image[...,::-1])"
   ]
  },
  {
   "cell_type": "code",
   "execution_count": null,
   "metadata": {},
   "outputs": [],
   "source": [
    "import numpy as np\n",
    "import cv2\n",
    "\n",
    "# Load image and keep a copy\n",
    "image = cv2.imread('images/sketch.png')\n",
    " \n",
    "# Grayscale and binarize\n",
    "gray = cv2.cvtColor(image, cv2.COLOR_BGR2GRAY)\n",
    "ret, thresh = cv2.threshold(gray, 127, 255, cv2.THRESH_BINARY_INV)\n",
    "\n",
    "# Find contours \n",
    "contours, hierarchy = cv2.findContours(thresh.copy(), cv2.RETR_LIST, cv2.CHAIN_APPROX_NONE)\n",
    "copy = image.copy()\n",
    "\n",
    "\n",
    "# Iterate through each contour and compute the approx contour\n",
    "for c in contours:\n",
    "    # Calculate accuracy as a percent of the contour perimeter\n",
    "    accuracy = 0.03 * cv2.arcLength(c, True)\n",
    "    approx = cv2.approxPolyDP(c, accuracy, True)\n",
    "    cv2.drawContours(copy, [approx], 0, (0, 255, 0), 2)\n",
    "\n",
    "plt.figure(figsize=[14,8])\n",
    "plt.subplot(121);plt.imshow(image[...,::-1]);plt.title(\"Original\");\n",
    "plt.subplot(122);plt.imshow(copy, cmap='gray');plt.title(\"approx image\");"
   ]
  },
  {
   "cell_type": "markdown",
   "metadata": {},
   "source": [
    "https://docs.opencv.org/3.4/dd/d49/tutorial_py_contour_features.html"
   ]
  }
 ],
 "metadata": {
  "kernelspec": {
   "display_name": "vision-class",
   "language": "python",
   "name": "tensorflow_25"
  },
  "language_info": {
   "codemirror_mode": {
    "name": "ipython",
    "version": 3
   },
   "file_extension": ".py",
   "mimetype": "text/x-python",
   "name": "python",
   "nbconvert_exporter": "python",
   "pygments_lexer": "ipython3",
   "version": "3.8.10"
  }
 },
 "nbformat": 4,
 "nbformat_minor": 4
}
