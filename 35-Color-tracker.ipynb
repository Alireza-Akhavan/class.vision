{
 "cells": [
  {
   "cell_type": "markdown",
   "id": "7d47d30f-a20d-4698-93b6-bca142cb3b97",
   "metadata": {},
   "source": [
    "# <div style=\"direction:rtl;text-align:right;font-family:B Lotus, B Nazanin, Tahoma\">یافتن رنگ در تصویر و دنبال کردن آن با تابع inrage</div>"
   ]
  },
  {
   "cell_type": "code",
   "execution_count": 1,
   "id": "00a53984-c3f6-4a30-b9e0-7543a587bb7d",
   "metadata": {},
   "outputs": [],
   "source": [
    "import cv2\n",
    "import numpy as np\n",
    "\n",
    "cap = cv2.VideoCapture(\"videos/blue-track.mp4\")\n",
    "\n",
    "while True:\n",
    "    ret, frame = cap.read()\n",
    "    if not ret:\n",
    "        break\n",
    "    hsv = cv2.cvtColor(frame, cv2.COLOR_BGR2HSV)\n",
    "    \n",
    "    lower_blue = np.array([100,50,50])\n",
    "    upper_blue = np.array([130,255,255])\n",
    "    \n",
    "    mask = cv2.inRange(hsv, lower_blue, upper_blue)\n",
    "    res = cv2.bitwise_and(frame,frame, mask= mask)\n",
    "\n",
    "    cv2.imshow('frame',frame)\n",
    "    cv2.imshow('mask',mask)\n",
    "    cv2.imshow('res',res)\n",
    "    \n",
    "    k = cv2.waitKey(5) & 0xFF\n",
    "    if k == 27:\n",
    "        break\n",
    "\n",
    "cv2.destroyAllWindows()\n",
    "cap.release()"
   ]
  },
  {
   "cell_type": "markdown",
   "id": "3d2e84f3-821c-4387-8592-4ce36efd02f2",
   "metadata": {},
   "source": [
    "### <div style=\"direction:rtl;text-align:right;font-family:B Lotus, B Nazanin, Tahoma\">اعداد بالا از کجا آمده اند؟</div>\n",
    "<div style=\"direction:rtl;text-align:right;font-family:B Lotus, B Nazanin, Tahoma\">با نگاه به اسپکتروم نوت بوک قبل مشاهده خواهید کرد که بازه حدود 120 در HSV مربوط به رنگ آبی است\n",
    "<br/>    معمولا +-10 از کانال hue گزینه ی خوبی برای فیلتر کردن رنگ است.\n",
    "<br/>\n",
    "بازه های 50 تا 255 دو کانال دیگر نیز می توانند انتخاب های اولیه ی معقولی باشند!\n",
    "<br/>\n",
    "اما میتوانید در BGR رنگ مورد نظر را ایجاد کرده و با تبدیل به HSV مقدار Hue را مشاهده کنید!\n",
    "</div>\n",
    "\n",
    "[34-Simlple-color-filtering.ipynb](#)"
   ]
  },
  {
   "cell_type": "code",
   "execution_count": 2,
   "id": "be197693-dada-4794-acb0-c8c48341d92e",
   "metadata": {},
   "outputs": [
    {
     "name": "stdout",
     "output_type": "stream",
     "text": [
      "[[[120 255 255]]]\n"
     ]
    }
   ],
   "source": [
    "import numpy as np\n",
    "import cv2\n",
    "\n",
    "red = np.array([[[255,0,0]]], 'uint8')\n",
    "\n",
    "hsv_red = cv2.cvtColor(red,cv2.COLOR_BGR2HSV)\n",
    "print(hsv_red)"
   ]
  },
  {
   "cell_type": "markdown",
   "id": "2855939a-9a33-4ec8-b0e1-0f547142a1c6",
   "metadata": {},
   "source": [
    "<div style=\"direction:rtl;text-align:right;font-family:B Lotus, B Nazanin, Tahoma\">مشخص کردن شی مورد نظر با دایره</div"
   ]
  },
  {
   "cell_type": "code",
   "execution_count": 3,
   "id": "e892d9e7-8f22-4aa1-a5fe-a4079909ad32",
   "metadata": {},
   "outputs": [],
   "source": [
    "import cv2\n",
    "import numpy as np\n",
    "\n",
    "cap = cv2.VideoCapture(\"videos/blue-track.mp4\")\n",
    "\n",
    "while True:\n",
    "    ret, frame = cap.read()\n",
    "    if not ret:\n",
    "        break\n",
    "    hsv = cv2.cvtColor(frame, cv2.COLOR_BGR2HSV)\n",
    "    \n",
    "    lower_blue = np.array([100,50,50])\n",
    "    upper_blue = np.array([130,255,255])\n",
    "    \n",
    "    mask = cv2.inRange(hsv, lower_blue, upper_blue)\n",
    "    contours, _ = cv2.findContours(mask, cv2.RETR_TREE, cv2.CHAIN_APPROX_SIMPLE)\n",
    "    centers, radius = cv2.minEnclosingCircle(contours[0])\n",
    "    centers = int(centers[0]), int(centers[1])\n",
    "    radius = int(radius)\n",
    "    cv2.circle(frame, centers, radius, (0,0,255), 2)\n",
    "    cv2.imshow('image',frame)\n",
    "    \n",
    "    k = cv2.waitKey(5) & 0xFF\n",
    "    if k == 27:\n",
    "        break\n",
    "\n",
    "cv2.destroyAllWindows()\n",
    "cap.release()"
   ]
  }
 ],
 "metadata": {
  "kernelspec": {
   "display_name": "vision-class",
   "language": "python",
   "name": "tensorflow_25"
  },
  "language_info": {
   "codemirror_mode": {
    "name": "ipython",
    "version": 3
   },
   "file_extension": ".py",
   "mimetype": "text/x-python",
   "name": "python",
   "nbconvert_exporter": "python",
   "pygments_lexer": "ipython3",
   "version": "3.8.10"
  }
 },
 "nbformat": 4,
 "nbformat_minor": 5
}
