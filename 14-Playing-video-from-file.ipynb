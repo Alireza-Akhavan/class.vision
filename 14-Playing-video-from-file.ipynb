{
 "cells": [
  {
   "cell_type": "markdown",
   "metadata": {
    "nbpresent": {
     "id": "588ee1fa-64b5-453b-ade7-8e6b2515821c"
    }
   },
   "source": [
    "# <div style=\"direction:rtl;text-align:right;font-family:B Lotus, B Nazanin, Tahoma\">لود ویدیو در OpenCV</div>"
   ]
  },
  {
   "cell_type": "code",
   "execution_count": 1,
   "metadata": {
    "nbpresent": {
     "id": "de829a92-1fb6-44ad-a2c6-fc1001e1f6e1"
    }
   },
   "outputs": [
    {
     "name": "stdout",
     "output_type": "stream",
     "text": [
      "Exiting ...\n"
     ]
    }
   ],
   "source": [
    "import cv2\n",
    "\n",
    "cap = cv2.VideoCapture(\"videos/race_car.mp4\")\n",
    "\n",
    "while True:\n",
    "    ret, frame = cap.read()\n",
    "    \n",
    "    # if frame is read correctly ret is True\n",
    "    if not ret:\n",
    "        print(\"Exiting ...\")\n",
    "        break\n",
    "    cv2.imshow('video', frame)\n",
    "    if cv2.waitKey(1) & 0xFF == 27:\n",
    "        break\n",
    "        \n",
    "# Release camera and close windows\n",
    "cap.release()\n",
    "cv2.destroyAllWindows()      "
   ]
  },
  {
   "cell_type": "markdown",
   "metadata": {},
   "source": [
    "<div style=\"direction:rtl;text-align:right;font-family:Tahoma\">\n",
    "سطح خاکستری کردن ویدیو\n",
    "</div>"
   ]
  },
  {
   "cell_type": "code",
   "execution_count": 2,
   "metadata": {},
   "outputs": [
    {
     "name": "stdout",
     "output_type": "stream",
     "text": [
      "Exiting ...\n"
     ]
    }
   ],
   "source": [
    "import cv2\n",
    "\n",
    "cap = cv2.VideoCapture(\"videos/race_car.mp4\")\n",
    "\n",
    "while True:\n",
    "    ret, frame = cap.read()\n",
    "    # if frame is read correctly ret is True\n",
    "    if not ret:\n",
    "        print(\"Exiting ...\")\n",
    "        break\n",
    "    gray = cv2.cvtColor(frame, cv2.COLOR_BGR2GRAY)\n",
    "    cv2.imshow('Gray video', gray)\n",
    "    if cv2.waitKey(1) & 0xFF == 27:\n",
    "        break\n",
    "        \n",
    "# Release camera and close windows\n",
    "cap.release()\n",
    "cv2.destroyAllWindows()      "
   ]
  },
  {
   "cell_type": "markdown",
   "metadata": {},
   "source": [
    "`cap.get(id)`\n",
    "<div style=\"direction:rtl;text-align:right;font-family:Tahoma\">\n",
    "متدی است که در آن شناسه عددی است. هر عدد نشان‌دهنده خاصیتی از ویدیو است (برای برخی از ویدیوها برخی از شناسه ها معنا نمیدهد)\n",
    "</div>"
   ]
  },
  {
   "cell_type": "code",
   "execution_count": 3,
   "metadata": {},
   "outputs": [
    {
     "name": "stdout",
     "output_type": "stream",
     "text": [
      "0.0\n",
      "0.0\n",
      "0.0016666666666666668\n",
      "1728.0\n",
      "1080.0\n",
      "30.0\n",
      "828601953.0\n",
      "210.0\n",
      "0.0\n",
      "0.0\n",
      "0.0\n",
      "0.0\n",
      "0.0\n",
      "0.0\n",
      "0.0\n",
      "0.0\n",
      "0.0\n",
      "0.0\n"
     ]
    }
   ],
   "source": [
    "import cv2\n",
    "\n",
    "cap = cv2.VideoCapture('./videos/race_car.mp4')\n",
    "\n",
    "for i in range(0,18):\n",
    "    print(cap.get(i))"
   ]
  },
  {
   "cell_type": "code",
   "execution_count": 6,
   "metadata": {},
   "outputs": [
    {
     "name": "stdout",
     "output_type": "stream",
     "text": [
      "width: 1728.0\n",
      "height: 1080.0\n",
      "FPS: 30.0\n"
     ]
    }
   ],
   "source": [
    "print(\"width:\", cap.get(cv2.CAP_PROP_FRAME_WIDTH))\n",
    "print(\"height:\", cap.get(cv2.CAP_PROP_FRAME_HEIGHT))\n",
    "print(\"FPS:\", cap.get(cv2.CAP_PROP_FPS))"
   ]
  },
  {
   "cell_type": "markdown",
   "metadata": {},
   "source": [
    "https://docs.opencv.org/4.x/d4/d15/group__videoio__flags__base.html#gaeb8dd9c89c10a5c63c139bf7c4f5704d"
   ]
  },
  {
   "cell_type": "code",
   "execution_count": null,
   "metadata": {},
   "outputs": [],
   "source": [
    "cv2.CAP_PROP_POS_MSEC = 0\n",
    "cv2.CAP_PROP_POS_FRAMES = 1\n",
    "cv2.CAP_PROP_POS_AVI_RATIO = 2\n",
    "cv2.CAP_PROP_FRAME_WIDTH = 3\n",
    "cv2.CAP_PROP_FRAME_HEIGHT = 4\n",
    "cv2.CAP_PROP_FPS = 5\n",
    "cv2.CAP_PROP_FOURCC = 6\n",
    "cv2.CAP_PROP_FRAME_COUNT = 7\n",
    "cv2.CAP_PROP_FORMAT = 8\n",
    "cv2.CAP_PROP_MODE = 9\n",
    "cv2.CAP_PROP_BRIGHTNESS = 10\n",
    "cv2.CAP_PROP_CONTRAST = 11\n",
    "cv2.CAP_PROP_SATURATION = 12\n",
    "cv2.CAP_PROP_HUE = 13\n",
    "cv2.CAP_PROP_GAIN = 14\n",
    "cv2.CAP_PROP_EXPOSURE = 15\n",
    "cv2.CAP_PROP_CONVERT_RGB = 16\n",
    "cv2.CAP_PROP_WHITE_BALANCE_BLUE_U = 17\n",
    "cv2.CAP_PROP_RECTIFICATION = 18\n",
    "cv2.CAP_PROP_MONOCHROME = 19\n",
    "cv2.CAP_PROP_SHARPNESS = 20\n",
    "cv2.CAP_PROP_AUTO_EXPOSURE = 21\n",
    "cv2.CAP_PROP_GAMMA = 22\n",
    "cv2.CAP_PROP_TEMPERATURE = 23\n",
    "cv2.CAP_PROP_TRIGGER = 24\n",
    "cv2.CAP_PROP_TRIGGER_DELAY = 25\n",
    "cv2.CAP_PROP_WHITE_BALANCE_RED_V = 26\n",
    "cv2.CAP_PROP_ZOOM = 27\n",
    "cv2.CAP_PROP_FOCUS = 28\n",
    "cv2.CAP_PROP_GUID = 29\n",
    "cv2.CAP_PROP_ISO_SPEED = 30\n",
    "cv2.CAP_PROP_BACKLIGHT = 32\n",
    "cv2.CAP_PROP_PAN = 33\n",
    "cv2.CAP_PROP_TILT = 34\n",
    "cv2.CAP_PROP_ROLL = 35\n",
    "cv2.CAP_PROP_IRIS = 36\n",
    "cv2.CAP_PROP_SETTINGS = 37\n",
    "cv2.CAP_PROP_BUFFERSIZE = 38\n",
    "cv2.CAP_PROP_AUTOFOCUS = 39\n",
    "cv2.CAP_PROP_SAR_NUM = 40\n",
    "cv2.CAP_PROP_SAR_DEN = 41\n",
    "cv2.CAP_PROP_BACKEND = 42\n",
    "cv2.CAP_PROP_CHANNEL = 43\n",
    "cv2.CAP_PROP_AUTO_WB = 44\n",
    "cv2.CAP_PROP_WB_TEMPERATURE = 45\n",
    "cv2.CAP_PROP_CODEC_PIXEL_FORMAT = 46\n",
    "cv2.CAP_PROP_BITRATE = 47\n",
    "cv2.CAP_PROP_ORIENTATION_META = 48\n",
    "cv2.CAP_PROP_ORIENTATION_AUTO = 49 "
   ]
  }
 ],
 "metadata": {
  "anaconda-cloud": {},
  "kernelspec": {
   "display_name": "vision-class",
   "language": "python",
   "name": "tensorflow_25"
  },
  "language_info": {
   "codemirror_mode": {
    "name": "ipython",
    "version": 3
   },
   "file_extension": ".py",
   "mimetype": "text/x-python",
   "name": "python",
   "nbconvert_exporter": "python",
   "pygments_lexer": "ipython3",
   "version": "3.8.10"
  },
  "nbpresent": {
   "slides": {
    "300ee14f-a043-486e-b274-7ff253907cd7": {
     "id": "300ee14f-a043-486e-b274-7ff253907cd7",
     "prev": "cb74e0bc-4513-4d13-b7f1-14c3078a7927",
     "regions": {
      "26dc3f39-a230-447c-af4c-f5e5b2fb7835": {
       "attrs": {
        "height": 0.8,
        "width": 0.8,
        "x": 0.1,
        "y": 0.1
       },
       "content": {
        "cell": "c58440a5-3f8f-4f37-9c79-6bf766209406",
        "part": "whole"
       },
       "id": "26dc3f39-a230-447c-af4c-f5e5b2fb7835"
      }
     }
    },
    "878aa53a-1444-4100-8f50-7a408191c579": {
     "id": "878aa53a-1444-4100-8f50-7a408191c579",
     "prev": null,
     "regions": {
      "a6c6843a-5ea6-4fbc-b890-3b4b8ae475b3": {
       "attrs": {
        "height": 0.8,
        "width": 0.8,
        "x": 0.1,
        "y": 0.1
       },
       "content": {
        "cell": "588ee1fa-64b5-453b-ade7-8e6b2515821c",
        "part": "whole"
       },
       "id": "a6c6843a-5ea6-4fbc-b890-3b4b8ae475b3"
      }
     }
    },
    "96ffe88e-7b50-43de-afdd-942e564f4e3e": {
     "id": "96ffe88e-7b50-43de-afdd-942e564f4e3e",
     "prev": "878aa53a-1444-4100-8f50-7a408191c579",
     "regions": {
      "b7e52e12-489a-468d-b10c-af2024fd2856": {
       "attrs": {
        "height": 0.8,
        "width": 0.8,
        "x": 0.1,
        "y": 0.1
       },
       "content": {
        "cell": "de829a92-1fb6-44ad-a2c6-fc1001e1f6e1",
        "part": "whole"
       },
       "id": "b7e52e12-489a-468d-b10c-af2024fd2856"
      }
     }
    },
    "cb74e0bc-4513-4d13-b7f1-14c3078a7927": {
     "id": "cb74e0bc-4513-4d13-b7f1-14c3078a7927",
     "prev": "96ffe88e-7b50-43de-afdd-942e564f4e3e",
     "regions": {
      "444878ee-68f3-4abb-acff-a7079b21e86d": {
       "attrs": {
        "height": 0.8,
        "width": 0.8,
        "x": 0.1,
        "y": 0.1
       },
       "content": {
        "cell": "25f3f538-1ee8-4d98-a6bb-14cbeb7a702d",
        "part": "whole"
       },
       "id": "444878ee-68f3-4abb-acff-a7079b21e86d"
      }
     }
    }
   },
   "themes": {}
  }
 },
 "nbformat": 4,
 "nbformat_minor": 4
}
