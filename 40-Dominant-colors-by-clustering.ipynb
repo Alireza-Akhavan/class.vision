{
 "cells": [
  {
   "cell_type": "markdown",
   "id": "9462f48e-ae08-4079-b44d-cd119fd53161",
   "metadata": {},
   "source": [
    "# <div style=\"direction:rtl;text-align:right;font-family:B Lotus, B Nazanin, Tahoma\">پیدا کردن رنگهای غالب</div>"
   ]
  },
  {
   "cell_type": "markdown",
   "id": "7a267f88-17c0-46c9-88b2-5a03a8351cb5",
   "metadata": {},
   "source": [
    "<div style=\"direction:rtl;text-align:right;font-family:B Lotus, B Nazanin, Tahoma\">اعمال الگوریتم خوشه بندی و پیدا کردن مراکز خوشه</div>"
   ]
  },
  {
   "cell_type": "code",
   "execution_count": 16,
   "id": "700fcdee-f04d-4e22-beeb-ccbcba0f8a3b",
   "metadata": {},
   "outputs": [
    {
     "name": "stdout",
     "output_type": "stream",
     "text": [
      "[[  2  58  21]\n",
      " [  2 179 245]\n",
      " [ 28  59 183]\n",
      " [ 10 139  77]\n",
      " [129 189 227]]\n",
      "[2 2 2 ... 0 0 0]\n"
     ]
    }
   ],
   "source": [
    "import cv2\n",
    "import numpy as np\n",
    "from sklearn.cluster import KMeans\n",
    "import matplotlib.pyplot as plt\n",
    "\n",
    "\n",
    "n_clusters = 5\n",
    "\n",
    "#read image\n",
    "img = cv2.imread(\"images/felfel-dolme.jpg\")\n",
    "\n",
    "#reshape to a list of pixels\n",
    "flat_img = img.reshape((-1, 3))\n",
    "\n",
    "#using k-means to cluster pixels\n",
    "kmeans = KMeans(n_clusters = n_clusters)\n",
    "kmeans.fit(flat_img)\n",
    "\n",
    "#the cluster centers are our dominant colors.\n",
    "dominant_colors = np.array(kmeans.cluster_centers_, dtype='uint8')\n",
    "\n",
    "labels = kmeans.labels_\n",
    "\n",
    "print(dominant_colors)\n",
    "print(labels)"
   ]
  },
  {
   "cell_type": "markdown",
   "id": "a622025d-aaf9-4528-8af0-27fa170d0a9f",
   "metadata": {},
   "source": [
    "<div style=\"direction:rtl;text-align:right;font-family:B Lotus, B Nazanin, Tahoma\">اعمال درصد هر خوشه به کل پیکسل ها</div>"
   ]
  },
  {
   "cell_type": "code",
   "execution_count": 27,
   "id": "c0726764-ea65-45da-b10b-ac44a1f9594f",
   "metadata": {},
   "outputs": [
    {
     "data": {
      "text/plain": [
       "array([0.27847398, 0.33723431, 0.21056954, 0.14621711, 0.02750506])"
      ]
     },
     "execution_count": 27,
     "metadata": {},
     "output_type": "execute_result"
    }
   ],
   "source": [
    "percentages = np.bincount(labels)/len(flat_img)\n",
    "percentages"
   ]
  },
  {
   "cell_type": "code",
   "execution_count": 28,
   "id": "1c52843c-a338-42e5-bdb8-1dd9309df17e",
   "metadata": {},
   "outputs": [],
   "source": [
    "p_and_c = zip(percentages,dominant_colors)\n",
    "p_and_c = sorted(p_and_c,reverse=True)"
   ]
  },
  {
   "cell_type": "markdown",
   "id": "98b22762-f68e-4bcf-991e-673775131383",
   "metadata": {},
   "source": [
    "<div style=\"direction:rtl;text-align:right;font-family:B Lotus, B Nazanin, Tahoma\">نمایش رنگهای غالب و درصد متناظر آنها</div>"
   ]
  },
  {
   "cell_type": "code",
   "execution_count": 29,
   "id": "86fdbae5-5449-4724-9150-9fbce119ba0d",
   "metadata": {},
   "outputs": [
    {
     "data": {
      "image/png": "[encoded data removed]",
      "text/plain": [
       "<Figure size 864x576 with 5 Axes>"
      ]
     },
     "metadata": {},
     "output_type": "display_data"
    }
   ],
   "source": [
    "block = np.ones((50,50,3),dtype='uint')\n",
    "plt.figure(figsize=(12,8))\n",
    "for i in range(n_clusters):\n",
    "    plt.subplot(1,n_clusters,i+1)\n",
    "    block[:] = p_and_c[i][1][::-1] # we have done this to convert bgr(opencv) to rgb(matplotlib) \n",
    "    plt.imshow(block)\n",
    "    plt.xticks([])\n",
    "    plt.yticks([])\n",
    "    plt.xlabel(str(round(p_and_c[i][0]*100,2))+'%')"
   ]
  },
  {
   "cell_type": "markdown",
   "id": "00edb89d-8735-42cc-b0c6-37a0e6b1d04a",
   "metadata": {},
   "source": [
    "<div style=\"direction:rtl;text-align:right;font-family:B Lotus, B Nazanin, Tahoma\">نمایش درصد به صورت بهتر</div>"
   ]
  },
  {
   "cell_type": "code",
   "execution_count": 30,
   "id": "aa0b9893-75c7-4f8b-8e3e-7688e9aafa0f",
   "metadata": {},
   "outputs": [
    {
     "data": {
      "text/plain": [
       "([], <a list of 0 Text major ticklabel objects>)"
      ]
     },
     "execution_count": 30,
     "metadata": {},
     "output_type": "execute_result"
    },
    {
     "data": {
      "image/png": "[encoded data removed]",
      "text/plain": [
       "<Figure size 864x576 with 1 Axes>"
      ]
     },
     "metadata": {},
     "output_type": "display_data"
    }
   ],
   "source": [
    "bar = np.ones((50,500,3),dtype='uint')\n",
    "plt.figure(figsize=(12,8))\n",
    "plt.title('Proportions of colors in the image')\n",
    "start = 0\n",
    "i = 1\n",
    "for p,c in p_and_c:\n",
    "    end = start+int(p*500)\n",
    "    if i==n_clusters:\n",
    "        bar[:,start:] = c[::-1]\n",
    "    else:\n",
    "        bar[:,start:end] = c[::-1]\n",
    "    start = end\n",
    "    i+=1\n",
    "\n",
    "plt.imshow(bar)\n",
    "plt.xticks([])\n",
    "plt.yticks([])"
   ]
  },
  {
   "cell_type": "markdown",
   "id": "4c7c4fa3-a22a-4d43-9f22-6b14e5d0a624",
   "metadata": {},
   "source": [
    "<div style=\"direction:rtl;text-align:right;font-family:B Lotus, B Nazanin, Tahoma\">نملیش روی تصویر نهایی</div>"
   ]
  },
  {
   "cell_type": "code",
   "execution_count": 31,
   "id": "ebec009f-40ec-4ca3-a748-59b04e002c69",
   "metadata": {},
   "outputs": [],
   "source": [
    "rows = 1000\n",
    "cols = int((img.shape[0]/img.shape[1])*rows)\n",
    "img = cv2.resize(img,dsize=(rows,cols),interpolation=cv2.INTER_LINEAR)\n",
    "\n",
    "copy = img.copy()\n",
    "cv2.rectangle(copy,(rows//2-250,cols//2-90),(rows//2+\n",
    "                                             250,cols//2+110),(255,255,255),-1)\n",
    "\n",
    "final = cv2.addWeighted(img,0.1,copy,0.9,0)\n",
    "cv2.putText(final,'Most Dominant Colors in the Image',(rows//2-230,cols//2-40),cv2.FONT_HERSHEY_DUPLEX,0.8,(0,0,0),1,cv2.LINE_AA)\n",
    "\n",
    "\n",
    "start = rows//2-220\n",
    "for i in range(5):\n",
    "    end = start+70\n",
    "    final[cols//2:cols//2+70,start:end] = p_and_c[i][1]\n",
    "    cv2.putText(final,str(i+1),(start+25,cols//2+45),cv2.FONT_HERSHEY_DUPLEX,1,(255,255,255),1,cv2.LINE_AA)\n",
    "    start = end+20\n",
    "\n",
    "plt.show()\n",
    "\n",
    "cv2.imshow('img',final)\n",
    "cv2.waitKey(0)\n",
    "cv2.destroyAllWindows()"
   ]
  },
  {
   "cell_type": "markdown",
   "id": "43fef7af-0bf4-4de1-a639-2d0941b20ac0",
   "metadata": {},
   "source": [
    "Thanks to: https://towardsdev.com/how-to-find-the-most-dominant-colors-in-an-image-in-python-using-kmeans-clustering-with-source-527ef3e6775f"
   ]
  }
 ],
 "metadata": {
  "kernelspec": {
   "display_name": "Python 3 (ipykernel)",
   "language": "python",
   "name": "python3"
  },
  "language_info": {
   "codemirror_mode": {
    "name": "ipython",
    "version": 3
   },
   "file_extension": ".py",
   "mimetype": "text/x-python",
   "name": "python",
   "nbconvert_exporter": "python",
   "pygments_lexer": "ipython3",
   "version": "3.8.10"
  }
 },
 "nbformat": 4,
 "nbformat_minor": 5
}
