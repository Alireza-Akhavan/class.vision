{
 "cells": [
  {
   "cell_type": "code",
   "execution_count": 1,
   "metadata": {},
   "outputs": [
    {
     "name": "stderr",
     "output_type": "stream",
     "text": [
      "Using TensorFlow backend.\n"
     ]
    }
   ],
   "source": [
    "import os\n",
    "import tensorflow as tf\n",
    "from keras.datasets import mnist\n",
    "from datetime import datetime"
   ]
  },
  {
   "cell_type": "code",
   "execution_count": 2,
   "metadata": {},
   "outputs": [],
   "source": [
    "import keras\n",
    "from keras import layers\n",
    "from keras.models import Sequential\n",
    "from keras.layers import Dense, Activation, Dropout\n",
    "from keras.callbacks import Callback, TensorBoard, ModelCheckpoint"
   ]
  },
  {
   "cell_type": "markdown",
   "metadata": {},
   "source": [
    "In this notebook, we are going to use the MNIST dataset. "
   ]
  },
  {
   "cell_type": "code",
   "execution_count": 3,
   "metadata": {},
   "outputs": [],
   "source": [
    "(train_images, train_labels), (_, _) = mnist.load_data()"
   ]
  },
  {
   "cell_type": "code",
   "execution_count": 6,
   "metadata": {},
   "outputs": [],
   "source": [
    "train_images = train_images.reshape(train_images.shape[0], 28, 28, 1).astype('float32')\n",
    "train_images = (train_images - 127.5) / 127.5 # Normalize the images to [-1, 1]\n"
   ]
  },
  {
   "cell_type": "code",
   "execution_count": 10,
   "metadata": {},
   "outputs": [],
   "source": [
    "BUFFER_SIZE = 60000\n",
    "BATCH_SIZE = 256"
   ]
  },
  {
   "cell_type": "code",
   "execution_count": 15,
   "metadata": {},
   "outputs": [],
   "source": [
    "# Batch and shuffle the data\n",
    "train_dataset = tf.data.Dataset.from_tensor_slices(train_images).shuffle(BUFFER_SIZE).batch(BATCH_SIZE)"
   ]
  },
  {
   "cell_type": "code",
   "execution_count": 16,
   "metadata": {},
   "outputs": [
    {
     "name": "stdout",
     "output_type": "stream",
     "text": [
      "(256, 28, 28, 1)\n"
     ]
    }
   ],
   "source": [
    "for image in train_dataset:\n",
    "    print(image.shape)\n",
    "    break"
   ]
  },
  {
   "cell_type": "code",
   "execution_count": 17,
   "metadata": {},
   "outputs": [],
   "source": [
    "# _______"
   ]
  },
  {
   "cell_type": "code",
   "execution_count": 36,
   "metadata": {},
   "outputs": [],
   "source": [
    "train_dataset = tf.data.Dataset.list_files('images/*.jpg')"
   ]
  },
  {
   "cell_type": "code",
   "execution_count": 37,
   "metadata": {},
   "outputs": [
    {
     "name": "stdout",
     "output_type": "stream",
     "text": [
      "tf.Tensor(b'images\\\\cat.1513.jpg', shape=(), dtype=string)\n",
      "tf.Tensor(b'images\\\\cat.1501.jpg', shape=(), dtype=string)\n",
      "tf.Tensor(b'images\\\\cat.1506.jpg', shape=(), dtype=string)\n",
      "tf.Tensor(b'images\\\\cat.1505.jpg', shape=(), dtype=string)\n",
      "tf.Tensor(b'images\\\\cat.1508.jpg', shape=(), dtype=string)\n",
      "tf.Tensor(b'images\\\\cat.1519.jpg', shape=(), dtype=string)\n",
      "tf.Tensor(b'images\\\\cat.1520.jpg', shape=(), dtype=string)\n",
      "tf.Tensor(b'images\\\\cat.1509.jpg', shape=(), dtype=string)\n",
      "tf.Tensor(b'images\\\\cat.1517.jpg', shape=(), dtype=string)\n",
      "tf.Tensor(b'images\\\\cat.1500.jpg', shape=(), dtype=string)\n",
      "tf.Tensor(b'images\\\\cat.1510.jpg', shape=(), dtype=string)\n",
      "tf.Tensor(b'images\\\\cat.1515.jpg', shape=(), dtype=string)\n",
      "tf.Tensor(b'images\\\\cat.1518.jpg', shape=(), dtype=string)\n",
      "tf.Tensor(b'images\\\\cat.1514.jpg', shape=(), dtype=string)\n",
      "tf.Tensor(b'images\\\\cat.1516.jpg', shape=(), dtype=string)\n",
      "tf.Tensor(b'images\\\\cat.1507.jpg', shape=(), dtype=string)\n",
      "tf.Tensor(b'images\\\\cat.1523.jpg', shape=(), dtype=string)\n",
      "tf.Tensor(b'images\\\\cat.1521.jpg', shape=(), dtype=string)\n",
      "tf.Tensor(b'images\\\\cat.1503.jpg', shape=(), dtype=string)\n",
      "tf.Tensor(b'images\\\\cat.1504.jpg', shape=(), dtype=string)\n",
      "tf.Tensor(b'images\\\\cat.1522.jpg', shape=(), dtype=string)\n",
      "tf.Tensor(b'images\\\\cat.1502.jpg', shape=(), dtype=string)\n",
      "tf.Tensor(b'images\\\\cat.1511.jpg', shape=(), dtype=string)\n",
      "tf.Tensor(b'images\\\\cat.1512.jpg', shape=(), dtype=string)\n"
     ]
    }
   ],
   "source": [
    "for f in train_dataset:\n",
    "    print(f)"
   ]
  },
  {
   "cell_type": "code",
   "execution_count": 38,
   "metadata": {},
   "outputs": [],
   "source": [
    "def load(image_file):\n",
    "    image = tf.io.read_file(image_file)\n",
    "    image = tf.image.decode_jpeg(image)\n",
    "\n",
    "    return image"
   ]
  },
  {
   "cell_type": "code",
   "execution_count": 39,
   "metadata": {},
   "outputs": [],
   "source": [
    "train_dataset = train_dataset.map(load)\n"
   ]
  },
  {
   "cell_type": "code",
   "execution_count": 40,
   "metadata": {},
   "outputs": [
    {
     "name": "stdout",
     "output_type": "stream",
     "text": [
      "(279, 350, 3)\n",
      "(375, 499, 3)\n",
      "(261, 354, 3)\n",
      "(375, 499, 3)\n",
      "(334, 377, 3)\n",
      "(376, 499, 3)\n",
      "(200, 263, 3)\n",
      "(500, 490, 3)\n",
      "(290, 237, 3)\n",
      "(479, 400, 3)\n",
      "(255, 199, 3)\n",
      "(374, 500, 3)\n",
      "(499, 387, 3)\n",
      "(382, 464, 3)\n",
      "(495, 500, 3)\n",
      "(150, 199, 3)\n",
      "(375, 499, 3)\n",
      "(499, 375, 3)\n",
      "(124, 143, 3)\n",
      "(499, 375, 3)\n",
      "(375, 499, 3)\n",
      "(374, 500, 3)\n",
      "(407, 500, 3)\n",
      "(429, 500, 3)\n"
     ]
    }
   ],
   "source": [
    "for img in train_dataset:\n",
    "    print(img.shape)"
   ]
  },
  {
   "cell_type": "code",
   "execution_count": 41,
   "metadata": {},
   "outputs": [],
   "source": [
    "def resize(input_image):\n",
    "    input_image = tf.image.resize(input_image, [150, 150],\n",
    "                                method=tf.image.ResizeMethod.NEAREST_NEIGHBOR)\n",
    "\n",
    "    return input_image"
   ]
  },
  {
   "cell_type": "code",
   "execution_count": 42,
   "metadata": {},
   "outputs": [
    {
     "name": "stdout",
     "output_type": "stream",
     "text": [
      "(150, 150, 3)\n",
      "(150, 150, 3)\n",
      "(150, 150, 3)\n",
      "(150, 150, 3)\n",
      "(150, 150, 3)\n",
      "(150, 150, 3)\n",
      "(150, 150, 3)\n",
      "(150, 150, 3)\n",
      "(150, 150, 3)\n",
      "(150, 150, 3)\n",
      "(150, 150, 3)\n",
      "(150, 150, 3)\n",
      "(150, 150, 3)\n",
      "(150, 150, 3)\n",
      "(150, 150, 3)\n",
      "(150, 150, 3)\n",
      "(150, 150, 3)\n",
      "(150, 150, 3)\n",
      "(150, 150, 3)\n",
      "(150, 150, 3)\n",
      "(150, 150, 3)\n",
      "(150, 150, 3)\n",
      "(150, 150, 3)\n",
      "(150, 150, 3)\n"
     ]
    }
   ],
   "source": [
    "train_dataset = train_dataset.map(resize)\n",
    "for img in train_dataset:\n",
    "    print(img.shape)"
   ]
  },
  {
   "cell_type": "code",
   "execution_count": 35,
   "metadata": {},
   "outputs": [],
   "source": [
    "train_dataset = train_dataset.batch(5)"
   ]
  },
  {
   "cell_type": "code",
   "execution_count": 44,
   "metadata": {},
   "outputs": [
    {
     "name": "stdout",
     "output_type": "stream",
     "text": [
      "(5, 150, 150, 3)\n",
      "(5, 150, 150, 3)\n",
      "(5, 150, 150, 3)\n",
      "(5, 150, 150, 3)\n"
     ]
    }
   ],
   "source": [
    "for img in train_dataset:\n",
    "    print(img.shape)"
   ]
  },
  {
   "cell_type": "code",
   "execution_count": 43,
   "metadata": {},
   "outputs": [],
   "source": [
    "train_dataset = train_dataset.batch(5, drop_remainder=True)"
   ]
  },
  {
   "cell_type": "code",
   "execution_count": null,
   "metadata": {},
   "outputs": [],
   "source": []
  }
 ],
 "metadata": {
  "kernelspec": {
   "display_name": "tf2-GPU",
   "language": "python",
   "name": "tf2"
  },
  "language_info": {
   "codemirror_mode": {
    "name": "ipython",
    "version": 3
   },
   "file_extension": ".py",
   "mimetype": "text/x-python",
   "name": "python",
   "nbconvert_exporter": "python",
   "pygments_lexer": "ipython3",
   "version": "3.6.9"
  }
 },
 "nbformat": 4,
 "nbformat_minor": 2
}
