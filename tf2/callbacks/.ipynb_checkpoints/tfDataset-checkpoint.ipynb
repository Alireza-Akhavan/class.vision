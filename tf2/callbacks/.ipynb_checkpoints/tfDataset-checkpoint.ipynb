{
 "cells": [
  {
   "cell_type": "code",
   "execution_count": 2,
   "metadata": {},
   "outputs": [
    {
     "name": "stderr",
     "output_type": "stream",
     "text": [
      "Using TensorFlow backend.\n"
     ]
    }
   ],
   "source": [
    "import os\n",
    "import tensorflow as tf\n",
    "from keras.datasets import mnist\n",
    "from datetime import datetime"
   ]
  },
  {
   "cell_type": "code",
   "execution_count": 3,
   "metadata": {},
   "outputs": [],
   "source": [
    "import keras\n",
    "from keras import layers\n",
    "from keras.models import Sequential\n",
    "from keras.layers import Dense, Activation, Dropout\n",
    "from keras.callbacks import Callback, TensorBoard, ModelCheckpoint"
   ]
  },
  {
   "cell_type": "markdown",
   "metadata": {},
   "source": [
    "In this notebook, we are going to use the MNIST dataset. "
   ]
  },
  {
   "cell_type": "code",
   "execution_count": 4,
   "metadata": {},
   "outputs": [],
   "source": [
    "(train_images, train_labels), (_, _) = mnist.load_data()"
   ]
  },
  {
   "cell_type": "code",
   "execution_count": 5,
   "metadata": {},
   "outputs": [],
   "source": [
    "train_images = train_images.reshape(train_images.shape[0], 28, 28, 1).astype('float32')\n",
    "train_images = (train_images - 127.5) / 127.5 # Normalize the images to [-1, 1]\n"
   ]
  },
  {
   "cell_type": "code",
   "execution_count": 6,
   "metadata": {},
   "outputs": [],
   "source": [
    "BUFFER_SIZE = 60000\n",
    "BATCH_SIZE = 256"
   ]
  },
  {
   "cell_type": "code",
   "execution_count": 7,
   "metadata": {},
   "outputs": [],
   "source": [
    "# Batch and shuffle the data\n",
    "train_dataset = tf.data.Dataset.from_tensor_slices(train_images).shuffle(BUFFER_SIZE).batch(BATCH_SIZE)"
   ]
  },
  {
   "cell_type": "code",
   "execution_count": 8,
   "metadata": {},
   "outputs": [
    {
     "name": "stdout",
     "output_type": "stream",
     "text": [
      "(256, 28, 28, 1)\n"
     ]
    }
   ],
   "source": [
    "for image in train_dataset:\n",
    "    print(image.shape)\n",
    "    break"
   ]
  },
  {
   "cell_type": "code",
   "execution_count": 9,
   "metadata": {},
   "outputs": [],
   "source": [
    "ipynb = tf.data.Dataset.list_files('./*.ipynb')"
   ]
  },
  {
   "cell_type": "code",
   "execution_count": 10,
   "metadata": {},
   "outputs": [
    {
     "name": "stdout",
     "output_type": "stream",
     "text": [
      "tf.Tensor(b'.\\\\.ipynb_checkpoints\\\\01_Callbacks & Tensorboard with Keras-checkpoint.ipynb', shape=(), dtype=string)\n",
      "tf.Tensor(b'.\\\\01_Callbacks & Tensorboard with Keras.ipynb', shape=(), dtype=string)\n",
      "tf.Tensor(b'.\\\\.ipynb_checkpoints\\\\03_tfDataset-checkpoint.ipynb', shape=(), dtype=string)\n",
      "tf.Tensor(b'.\\\\03_Callbacks-ModelCheckpoint-Copy1.ipynb', shape=(), dtype=string)\n",
      "tf.Tensor(b'.\\\\.ipynb_checkpoints\\\\Untitled-checkpoint.ipynb', shape=(), dtype=string)\n",
      "tf.Tensor(b'.\\\\.ipynb_checkpoints\\\\gradiant_tape-checkpoint.ipynb', shape=(), dtype=string)\n",
      "tf.Tensor(b'.\\\\02_Callbacks & Tensorboard with Keras - Copy.ipynb', shape=(), dtype=string)\n",
      "tf.Tensor(b'.\\\\tfDataset.ipynb', shape=(), dtype=string)\n",
      "tf.Tensor(b'.\\\\.ipynb_checkpoints\\\\02_Callbacks & Tensorboard with Keras-checkpoint.ipynb', shape=(), dtype=string)\n",
      "tf.Tensor(b'.\\\\gradiant_tape.ipynb', shape=(), dtype=string)\n",
      "tf.Tensor(b'.\\\\.ipynb_checkpoints\\\\03_Callbacks-ModelCheckpoint-Copy1-checkpoint.ipynb', shape=(), dtype=string)\n"
     ]
    }
   ],
   "source": [
    "for f in ipynb:\n",
    "    print(f)"
   ]
  },
  {
   "cell_type": "code",
   "execution_count": null,
   "metadata": {},
   "outputs": [],
   "source": [
    "train_dataset = train_dataset.map(load_image_train,\n",
    "                                  num_parallel_calls=tf.data.experimental.AUTOTUNE)\n"
   ]
  }
 ],
 "metadata": {
  "kernelspec": {
   "display_name": "tf2-GPU",
   "language": "python",
   "name": "tf2"
  },
  "language_info": {
   "codemirror_mode": {
    "name": "ipython",
    "version": 3
   },
   "file_extension": ".py",
   "mimetype": "text/x-python",
   "name": "python",
   "nbconvert_exporter": "python",
   "pygments_lexer": "ipython3",
   "version": "3.6.9"
  }
 },
 "nbformat": 4,
 "nbformat_minor": 2
}
