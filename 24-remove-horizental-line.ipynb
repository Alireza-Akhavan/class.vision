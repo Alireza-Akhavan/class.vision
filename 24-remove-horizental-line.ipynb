{
 "cells": [
  {
   "cell_type": "markdown",
   "metadata": {},
   "source": [
    "# <div style=\"direction:rtl;text-align:right;font-family:B Lotus, B Nazanin, Tahoma\">عملیات مروفولوژی - حذف خطوط افقی</div>"
   ]
  },
  {
   "cell_type": "code",
   "execution_count": 2,
   "metadata": {},
   "outputs": [],
   "source": [
    "import numpy as np\n",
    "import cv2\n",
    "\n",
    "def show_wait_destroy(winname, img):\n",
    "    cv2.imshow(winname, img)\n",
    "    cv2.moveWindow(winname, 500, 0)\n",
    "    cv2.waitKey(0)\n",
    "    cv2.destroyWindow(winname)\n",
    "\n",
    "\n",
    "# Load the image in grayscale\n",
    "gray = cv2.imread(\"images/notes.png\", 0)\n",
    "\n",
    "show_wait_destroy(\"gray\", gray)\n",
    "\n",
    "\n",
    "gray = cv2.bitwise_not(gray)\n",
    "bw = cv2.adaptiveThreshold(gray, 255, cv2.ADAPTIVE_THRESH_MEAN_C, \\\n",
    "                            cv2.THRESH_BINARY, 15, -2)\n",
    "# Show binary image\n",
    "show_wait_destroy(\"binary\", bw)\n",
    "\n",
    "\n",
    "horizontal = np.copy(bw)\n",
    "vertical = np.copy(bw)\n",
    "\n",
    "\n",
    "cols = gray.shape[1]\n",
    "horizontal_size = cols // 30\n",
    "\n",
    "# Create structure element for extracting horizontal lines through morphology operations\n",
    "horizontalStructure = cv2.getStructuringElement(cv2.MORPH_RECT, (horizontal_size, 1))\n",
    "\n",
    "# Apply morphology operations\n",
    "horizontal = cv2.erode(horizontal, horizontalStructure)\n",
    "horizontal = cv2.dilate(horizontal, horizontalStructure)\n",
    "\n",
    "# Show extracted horizontal lines\n",
    "show_wait_destroy(\"horizontal\", horizontal)\n",
    "\n",
    "# Specify size on vertical axis\n",
    "rows = gray.shape[0]\n",
    "verticalsize = rows // 30\n",
    "\n",
    "# Create structure element for extracting vertical lines through morphology operations\n",
    "verticalStructure = cv2.getStructuringElement(cv2.MORPH_RECT, (1, verticalsize))\n",
    "\n",
    "# Apply morphology operations\n",
    "vertical = cv2.erode(vertical, verticalStructure)\n",
    "vertical = cv2.dilate(vertical, verticalStructure)\n",
    "\n",
    "# Show extracted vertical lines\n",
    "show_wait_destroy(\"vertical\", vertical)\n",
    "\n",
    "# Inverse vertical image\n",
    "vertical = cv2.bitwise_not(vertical)\n",
    "show_wait_destroy(\"vertical_bit\", vertical)\n",
    "\n",
    "\n",
    "# Step 1\n",
    "edges = cv2.adaptiveThreshold(vertical, 255, cv2.ADAPTIVE_THRESH_MEAN_C, \\\n",
    "                            cv2.THRESH_BINARY, 3, -2)\n",
    "show_wait_destroy(\"edges\", edges)\n",
    "\n",
    "# Step 2\n",
    "kernel = np.ones((2, 2), np.uint8)\n",
    "edges = cv2.dilate(edges, kernel)\n",
    "show_wait_destroy(\"dilate\", edges)\n",
    "\n",
    "# Step 3\n",
    "smooth = np.copy(vertical)\n",
    "\n",
    "# Step 4\n",
    "smooth = cv2.blur(smooth, (2, 2))\n",
    "\n",
    "# Step 5\n",
    "(rows, cols) = np.where(edges != 0)\n",
    "vertical[rows, cols] = smooth[rows, cols]\n",
    "\n",
    "# Show final result\n",
    "show_wait_destroy(\"smooth - final\", vertical)\n",
    "# [smooth]"
   ]
  },
  {
   "cell_type": "markdown",
   "metadata": {},
   "source": [
    "https://docs.opencv.org/4.x/dd/dd7/tutorial_morph_lines_detection.html"
   ]
  }
 ],
 "metadata": {
  "kernelspec": {
   "display_name": "Python 3 (ipykernel)",
   "language": "python",
   "name": "python3"
  },
  "language_info": {
   "codemirror_mode": {
    "name": "ipython",
    "version": 3
   },
   "file_extension": ".py",
   "mimetype": "text/x-python",
   "name": "python",
   "nbconvert_exporter": "python",
   "pygments_lexer": "ipython3",
   "version": "3.8.10"
  }
 },
 "nbformat": 4,
 "nbformat_minor": 4
}
