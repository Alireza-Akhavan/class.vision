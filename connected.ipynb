{
 "cells": [
  {
   "cell_type": "code",
   "execution_count": 7,
   "id": "e4f8c2fd-62dc-4d8a-bcc6-04b1d0d3b8de",
   "metadata": {},
   "outputs": [],
   "source": [
    "import numpy as np\n",
    "import cv2\n",
    "\n",
    "MIN_CONTOUR_AREA = 5\n",
    "\n",
    "imgInput = cv2.imread(\"images/input_text.png\")            \n",
    "\n",
    "# convert image to grayscale\n",
    "imgGray = cv2.cvtColor(imgInput, cv2.COLOR_BGR2GRAY)         \n",
    "\n",
    "# invert black and white\n",
    "newRet, binaryThreshold = cv2.threshold(imgGray,127,255,cv2.THRESH_BINARY_INV)\n",
    "\n",
    "# dilation\n",
    "rectkernel = cv2.getStructuringElement(cv2.MORPH_RECT,(15,10))\n",
    "\n",
    "rectdilation = cv2.dilate(binaryThreshold, rectkernel, iterations = 1)\n",
    "\n",
    "outputImage = imgInput.copy()\n",
    "\n",
    "npaContours, npaHierarchy = cv2.findContours(rectdilation.copy(),        \n",
    "                                             cv2.RETR_EXTERNAL,                 \n",
    "                                             cv2.CHAIN_APPROX_SIMPLE)           \n",
    "\n",
    "for npaContour in npaContours:                         \n",
    "    if cv2.contourArea(npaContour) > MIN_CONTOUR_AREA:          \n",
    "\n",
    "        [intX, intY, intW, intH] = cv2.boundingRect(npaContour)         \n",
    "\n",
    "        cv2.rectangle(outputImage,           \n",
    "              (intX, intY),                 # upper left corner\n",
    "              (intX+intW,intY+intH),        # lower right corner\n",
    "              (0, 0, 255),                  # red\n",
    "              2)                            # thickness\n",
    "\n",
    "        # Get subimage of word and find contours of that word\n",
    "        imgROI = binaryThreshold[intY:intY+intH, intX:intX+intW]   \n",
    "\n",
    "\n",
    "        subContours, subHierarchy = cv2.findContours(imgROI.copy(),        \n",
    "                                             cv2.RETR_EXTERNAL,                 \n",
    "                                             cv2.CHAIN_APPROX_SIMPLE) \n",
    "\n",
    "        # This part is not working as I am expecting\n",
    "        for subContour in subContours:\n",
    "\n",
    "            [pointX, pointY, width, height] = cv2.boundingRect(subContour) \n",
    "\n",
    "\n",
    "            cv2.rectangle(outputImage,(intX+pointX, intY+pointY),(intX+pointX+width, intY+pointY+height), (255, 0, 0),2)\n",
    "cv2.imshow(\"original\", imgInput)\n",
    "cv2.imshow(\"rectdilation\", rectdilation)\n",
    "cv2.imshow(\"threshold\", binaryThreshold)\n",
    "cv2.imshow(\"outputRect\", outputImage)\n",
    "\n",
    "cv2.waitKey(0);\n",
    "cv2.destroyAllWindows()"
   ]
  },
  {
   "cell_type": "code",
   "execution_count": null,
   "id": "60797444-744c-453b-9676-59e9ae0442ac",
   "metadata": {},
   "outputs": [],
   "source": []
  }
 ],
 "metadata": {
  "kernelspec": {
   "display_name": "Python 3 (ipykernel)",
   "language": "python",
   "name": "python3"
  },
  "language_info": {
   "codemirror_mode": {
    "name": "ipython",
    "version": 3
   },
   "file_extension": ".py",
   "mimetype": "text/x-python",
   "name": "python",
   "nbconvert_exporter": "python",
   "pygments_lexer": "ipython3",
   "version": "3.8.10"
  }
 },
 "nbformat": 4,
 "nbformat_minor": 5
}
